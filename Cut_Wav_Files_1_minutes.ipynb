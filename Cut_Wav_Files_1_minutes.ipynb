{
  "nbformat": 4,
  "nbformat_minor": 0,
  "metadata": {
    "colab": {
      "name": "Cut Wav Files 1 minutes.ipynb",
      "provenance": [],
      "collapsed_sections": [],
      "mount_file_id": "1MGZtGydSwygJcCvxnKNywGS9ippzgpkm",
      "authorship_tag": "ABX9TyPHBnRN0JFxlxfuT1Buv/I5",
      "include_colab_link": true
    },
    "kernelspec": {
      "name": "python3",
      "display_name": "Python 3"
    },
    "language_info": {
      "name": "python"
    }
  },
  "cells": [
    {
      "cell_type": "markdown",
      "metadata": {
        "id": "view-in-github",
        "colab_type": "text"
      },
      "source": [
        "<a href=\"https://colab.research.google.com/github/NguyenLeVu-19146428/CODE-FINAL/blob/main/Cut_Wav_Files_1_minutes.ipynb\" target=\"_parent\"><img src=\"https://colab.research.google.com/assets/colab-badge.svg\" alt=\"Open In Colab\"/></a>"
      ]
    },
    {
      "cell_type": "code",
      "execution_count": 4,
      "metadata": {
        "id": "6F2vyxmSVewB",
        "outputId": "2396bf66-2ace-42a4-b0b1-c9a1bcd4abe3",
        "colab": {
          "base_uri": "https://localhost:8080/"
        }
      },
      "outputs": [
        {
          "output_type": "stream",
          "name": "stdout",
          "text": [
            "Looking in indexes: https://pypi.org/simple, https://us-python.pkg.dev/colab-wheels/public/simple/\n",
            "Requirement already satisfied: pydub in /usr/local/lib/python3.7/dist-packages (0.25.1)\n"
          ]
        }
      ],
      "source": [
        "pip install pydub"
      ]
    },
    {
      "cell_type": "code",
      "source": [
        "pip install python-math"
      ],
      "metadata": {
        "id": "d955UbxMVfeL",
        "outputId": "2f7cd7d3-05f9-43a5-cf7c-c0d1e9ba4957",
        "colab": {
          "base_uri": "https://localhost:8080/"
        }
      },
      "execution_count": 5,
      "outputs": [
        {
          "output_type": "stream",
          "name": "stdout",
          "text": [
            "Looking in indexes: https://pypi.org/simple, https://us-python.pkg.dev/colab-wheels/public/simple/\n",
            "Requirement already satisfied: python-math in /usr/local/lib/python3.7/dist-packages (0.0.1)\n"
          ]
        }
      ]
    },
    {
      "cell_type": "code",
      "source": [
        "from pydub import AudioSegment\n",
        "import math\n",
        "\n",
        "class SplitWavAudioMubin():\n",
        "    def __init__(self, folder, filename):\n",
        "        self.folder = folder\n",
        "        self.filename = filename\n",
        "        self.filepath = folder + '/' + filename\n",
        "        self.audio = AudioSegment.from_wav(self.filepath)\n",
        "    \n",
        "    def get_duration(self):\n",
        "        return self.audio.duration_seconds\n",
        "    \n",
        "    def single_split(self, from_min, to_min, split_filename):\n",
        "        t1 = from_min * 60 * 1000\n",
        "        t2 = to_min * 60 * 1000\n",
        "        split_audio = self.audio[t1:t2]\n",
        "        split_audio.export(self.folder + '/' + split_filename, format=\"wav\")\n",
        "        \n",
        "    def multiple_split(self, min_per_split):\n",
        "        total_mins = math.ceil(self.get_duration() / 60)\n",
        "        for i in range(0, total_mins, min_per_split):\n",
        "            split_fn = str(i) + '_' + self.filename\n",
        "            self.single_split(i, i+min_per_split, split_fn)\n",
        "            print(str(i) + ' Done')\n",
        "            if i == total_mins - min_per_split:\n",
        "                print('All splited successfully')"
      ],
      "metadata": {
        "id": "QbnsUy4pVhIh"
      },
      "execution_count": 11,
      "outputs": []
    },
    {
      "cell_type": "code",
      "source": [
        "folder = '../content/drive/MyDrive/FINAL_PROJECT_AI/data/wav cut/bird/'\n",
        "file = 'sáo kêu.wav'\n",
        "split_wav = SplitWavAudioMubin(folder, file)\n",
        "split_wav.multiple_split(min_per_split=1)\n"
      ],
      "metadata": {
        "id": "jgWd10Y8VlBn",
        "colab": {
          "base_uri": "https://localhost:8080/"
        },
        "outputId": "40dcdbe9-c303-4650-e723-6acd074973d3"
      },
      "execution_count": 13,
      "outputs": [
        {
          "output_type": "stream",
          "name": "stdout",
          "text": [
            "0 Done\n",
            "1 Done\n",
            "2 Done\n",
            "3 Done\n",
            "4 Done\n",
            "5 Done\n",
            "6 Done\n",
            "7 Done\n",
            "8 Done\n",
            "9 Done\n",
            "10 Done\n",
            "11 Done\n",
            "12 Done\n",
            "13 Done\n",
            "14 Done\n",
            "15 Done\n",
            "16 Done\n",
            "17 Done\n",
            "18 Done\n",
            "19 Done\n",
            "20 Done\n",
            "21 Done\n",
            "22 Done\n",
            "23 Done\n",
            "24 Done\n",
            "25 Done\n",
            "26 Done\n",
            "27 Done\n",
            "28 Done\n",
            "29 Done\n",
            "30 Done\n",
            "31 Done\n",
            "32 Done\n",
            "33 Done\n",
            "34 Done\n",
            "35 Done\n",
            "36 Done\n",
            "37 Done\n",
            "38 Done\n",
            "39 Done\n",
            "40 Done\n",
            "41 Done\n",
            "42 Done\n",
            "43 Done\n",
            "44 Done\n",
            "45 Done\n",
            "46 Done\n",
            "47 Done\n",
            "48 Done\n",
            "49 Done\n",
            "50 Done\n",
            "51 Done\n",
            "52 Done\n",
            "53 Done\n",
            "54 Done\n",
            "55 Done\n",
            "56 Done\n",
            "57 Done\n",
            "58 Done\n",
            "59 Done\n",
            "60 Done\n",
            "All splited successfully\n"
          ]
        }
      ]
    }
  ]
}