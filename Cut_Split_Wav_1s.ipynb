{
  "nbformat": 4,
  "nbformat_minor": 0,
  "metadata": {
    "colab": {
      "name": "Cut Split Wav 1s.ipynb",
      "provenance": [],
      "collapsed_sections": [],
      "mount_file_id": "1aY0gJCMBE8BtC0D5g1GjDaHVMI7V73X9",
      "authorship_tag": "ABX9TyNdfCI0jI6XNH2C1Wvd3Z7a",
      "include_colab_link": true
    },
    "kernelspec": {
      "name": "python3",
      "display_name": "Python 3"
    },
    "language_info": {
      "name": "python"
    }
  },
  "cells": [
    {
      "cell_type": "markdown",
      "metadata": {
        "id": "view-in-github",
        "colab_type": "text"
      },
      "source": [
        "<a href=\"https://colab.research.google.com/github/NguyenLeVu-19146428/CODE-FINAL/blob/main/Cut_Split_Wav_1s.ipynb\" target=\"_parent\"><img src=\"https://colab.research.google.com/assets/colab-badge.svg\" alt=\"Open In Colab\"/></a>"
      ]
    },
    {
      "cell_type": "code",
      "execution_count": 1,
      "metadata": {
        "id": "GwFoI4_MVJr4",
        "colab": {
          "base_uri": "https://localhost:8080/"
        },
        "outputId": "a8311407-f6e9-477a-a6bb-3549043d7cfc"
      },
      "outputs": [
        {
          "output_type": "stream",
          "name": "stdout",
          "text": [
            "Looking in indexes: https://pypi.org/simple, https://us-python.pkg.dev/colab-wheels/public/simple/\n",
            "Collecting pydub\n",
            "  Downloading pydub-0.25.1-py2.py3-none-any.whl (32 kB)\n",
            "Installing collected packages: pydub\n",
            "Successfully installed pydub-0.25.1\n"
          ]
        }
      ],
      "source": [
        "pip install pydub"
      ]
    },
    {
      "cell_type": "code",
      "source": [
        "from pydub import AudioSegment\n",
        "from pydub.utils import make_chunks\n",
        "\n",
        "myaudio = AudioSegment.from_file(\"../content/drive/MyDrive/FINAL_PROJECT_AI/data/wav cut/bird/1_sáo kêu.wav\" , \"wav\") \n",
        "chunk_length_ms = 1000 # pydub calculates in millisec\n",
        "chunks = make_chunks(myaudio, chunk_length_ms) #Make chunks of one sec\n",
        "\n",
        "#Export all of the individual chunks as wav files\n",
        "\n",
        "for i, chunk in enumerate(chunks):\n",
        "    chunk_name = \"../content/drive/MyDrive/FINAL_PROJECT_AI/data/wav/bird/bird1_chunk{0}.wav\".format(i)\n",
        "    chunk.export(chunk_name, format=\"wav\")\n",
        "print('Finish')"
      ],
      "metadata": {
        "colab": {
          "base_uri": "https://localhost:8080/"
        },
        "id": "qTX3w0iLqD97",
        "outputId": "db7b3845-5863-480b-fc2c-a56f343b52d9"
      },
      "execution_count": 7,
      "outputs": [
        {
          "output_type": "stream",
          "name": "stdout",
          "text": [
            "Finish\n"
          ]
        }
      ]
    }
  ]
}